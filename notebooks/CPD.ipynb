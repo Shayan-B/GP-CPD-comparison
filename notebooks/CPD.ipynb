{
 "cells": [
  {
   "cell_type": "code",
   "execution_count": 2,
   "metadata": {},
   "outputs": [
    {
     "name": "stdout",
     "output_type": "stream",
     "text": [
      "WARNING:tensorflow:From c:\\Users\\Shayan\\anaconda3\\envs\\StockENV\\Lib\\site-packages\\tf_keras\\src\\losses.py:2976: The name tf.losses.sparse_softmax_cross_entropy is deprecated. Please use tf.compat.v1.losses.sparse_softmax_cross_entropy instead.\n",
      "\n",
      "WARNING:tensorflow:From c:\\Users\\Shayan\\anaconda3\\envs\\StockENV\\Lib\\site-packages\\tensorflow_probability\\python\\internal\\backend\\numpy\\_utils.py:48: The name tf.logging.TaskLevelStatusMessage is deprecated. Please use tf.compat.v1.logging.TaskLevelStatusMessage instead.\n",
      "\n",
      "WARNING:tensorflow:From c:\\Users\\Shayan\\anaconda3\\envs\\StockENV\\Lib\\site-packages\\tensorflow_probability\\python\\internal\\backend\\numpy\\_utils.py:48: The name tf.control_flow_v2_enabled is deprecated. Please use tf.compat.v1.control_flow_v2_enabled instead.\n",
      "\n"
     ]
    }
   ],
   "source": [
    "import os\n",
    "import sys\n",
    "\n",
    "dir2 = os.path.abspath(\"\")\n",
    "dir1 = os.path.dirname(dir2)\n",
    "if dir1 not in sys.path:\n",
    "    sys.path.append(dir1)\n",
    "\n",
    "from src import main_adaga\n",
    "from src import main_gpcpd\n",
    "\n",
    "%load_ext autoreload\n",
    "%autoreload 2\n"
   ]
  },
  {
   "cell_type": "code",
   "execution_count": null,
   "metadata": {},
   "outputs": [],
   "source": [
    "main_adaga.run_module()"
   ]
  },
  {
   "cell_type": "code",
   "execution_count": 3,
   "metadata": {},
   "outputs": [
    {
     "name": "stderr",
     "output_type": "stream",
     "text": [
      "[*********************100%%**********************]  1 of 1 completed\n",
      "Progress running the GPCPD: 100%|██████████| 166/166 [04:40<00:00,  1.69s/it]\n"
     ]
    },
    {
     "data": {
      "text/html": [
       "<div>\n",
       "<style scoped>\n",
       "    .dataframe tbody tr th:only-of-type {\n",
       "        vertical-align: middle;\n",
       "    }\n",
       "\n",
       "    .dataframe tbody tr th {\n",
       "        vertical-align: top;\n",
       "    }\n",
       "\n",
       "    .dataframe thead th {\n",
       "        text-align: right;\n",
       "    }\n",
       "</style>\n",
       "<table border=\"1\" class=\"dataframe\">\n",
       "  <thead>\n",
       "    <tr style=\"text-align: right;\">\n",
       "      <th></th>\n",
       "      <th>date</th>\n",
       "      <th>t</th>\n",
       "      <th>cp_location</th>\n",
       "      <th>cp_location_norm</th>\n",
       "      <th>cp_score</th>\n",
       "    </tr>\n",
       "  </thead>\n",
       "  <tbody>\n",
       "    <tr>\n",
       "      <th>0</th>\n",
       "      <td>2023-07-18</td>\n",
       "      <td>10</td>\n",
       "      <td>5.0</td>\n",
       "      <td>0.5</td>\n",
       "      <td>NaN</td>\n",
       "    </tr>\n",
       "    <tr>\n",
       "      <th>1</th>\n",
       "      <td>2023-07-19</td>\n",
       "      <td>11</td>\n",
       "      <td>3.007076</td>\n",
       "      <td>0.799292</td>\n",
       "      <td>0.666827</td>\n",
       "    </tr>\n",
       "    <tr>\n",
       "      <th>2</th>\n",
       "      <td>2023-07-20</td>\n",
       "      <td>12</td>\n",
       "      <td>7.975003</td>\n",
       "      <td>0.4025</td>\n",
       "      <td>0.900489</td>\n",
       "    </tr>\n",
       "    <tr>\n",
       "      <th>3</th>\n",
       "      <td>2023-07-21</td>\n",
       "      <td>13</td>\n",
       "      <td>7.999015</td>\n",
       "      <td>0.500099</td>\n",
       "      <td>0.814234</td>\n",
       "    </tr>\n",
       "    <tr>\n",
       "      <th>4</th>\n",
       "      <td>2023-07-24</td>\n",
       "      <td>14</td>\n",
       "      <td>7.954523</td>\n",
       "      <td>0.604548</td>\n",
       "      <td>0.853394</td>\n",
       "    </tr>\n",
       "    <tr>\n",
       "      <th>...</th>\n",
       "      <td>...</td>\n",
       "      <td>...</td>\n",
       "      <td>...</td>\n",
       "      <td>...</td>\n",
       "      <td>...</td>\n",
       "    </tr>\n",
       "    <tr>\n",
       "      <th>161</th>\n",
       "      <td>2024-03-07</td>\n",
       "      <td>171</td>\n",
       "      <td>163.988607</td>\n",
       "      <td>0.701139</td>\n",
       "      <td>0.60254</td>\n",
       "    </tr>\n",
       "    <tr>\n",
       "      <th>162</th>\n",
       "      <td>2024-03-08</td>\n",
       "      <td>172</td>\n",
       "      <td>163.981169</td>\n",
       "      <td>0.801883</td>\n",
       "      <td>0.650672</td>\n",
       "    </tr>\n",
       "    <tr>\n",
       "      <th>163</th>\n",
       "      <td>2024-03-11</td>\n",
       "      <td>173</td>\n",
       "      <td>163.154806</td>\n",
       "      <td>0.984519</td>\n",
       "      <td>0.765026</td>\n",
       "    </tr>\n",
       "    <tr>\n",
       "      <th>164</th>\n",
       "      <td>2024-03-12</td>\n",
       "      <td>174</td>\n",
       "      <td>170.009234</td>\n",
       "      <td>0.399077</td>\n",
       "      <td>0.775012</td>\n",
       "    </tr>\n",
       "    <tr>\n",
       "      <th>165</th>\n",
       "      <td>2024-03-13</td>\n",
       "      <td>175</td>\n",
       "      <td>168.95189</td>\n",
       "      <td>0.604811</td>\n",
       "      <td>0.755507</td>\n",
       "    </tr>\n",
       "  </tbody>\n",
       "</table>\n",
       "<p>166 rows × 5 columns</p>\n",
       "</div>"
      ],
      "text/plain": [
       "           date    t cp_location cp_location_norm  cp_score\n",
       "0    2023-07-18   10         5.0              0.5       NaN\n",
       "1    2023-07-19   11    3.007076         0.799292  0.666827\n",
       "2    2023-07-20   12    7.975003           0.4025  0.900489\n",
       "3    2023-07-21   13    7.999015         0.500099  0.814234\n",
       "4    2023-07-24   14    7.954523         0.604548  0.853394\n",
       "..          ...  ...         ...              ...       ...\n",
       "161  2024-03-07  171  163.988607         0.701139   0.60254\n",
       "162  2024-03-08  172  163.981169         0.801883  0.650672\n",
       "163  2024-03-11  173  163.154806         0.984519  0.765026\n",
       "164  2024-03-12  174  170.009234         0.399077  0.775012\n",
       "165  2024-03-13  175   168.95189         0.604811  0.755507\n",
       "\n",
       "[166 rows x 5 columns]"
      ]
     },
     "execution_count": 3,
     "metadata": {},
     "output_type": "execute_result"
    }
   ],
   "source": [
    "main_gpcpd.run_module()"
   ]
  }
 ],
 "metadata": {
  "kernelspec": {
   "display_name": "base",
   "language": "python",
   "name": "python3"
  },
  "language_info": {
   "codemirror_mode": {
    "name": "ipython",
    "version": 3
   },
   "file_extension": ".py",
   "mimetype": "text/x-python",
   "name": "python",
   "nbconvert_exporter": "python",
   "pygments_lexer": "ipython3",
   "version": "3.11.5"
  }
 },
 "nbformat": 4,
 "nbformat_minor": 2
}
